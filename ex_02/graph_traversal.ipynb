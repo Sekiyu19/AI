{
  "cells": [
    {
      "cell_type": "markdown",
      "source": [
        "The following two source codes are taken from https://www.tutorialspoint.com/python_data_structure/python_graph_algorithms.htm"
      ],
      "metadata": {
        "id": "dkY3tTxZObY7"
      }
    },
    {
      "cell_type": "code",
      "source": [
        "class graph:\n",
        "   def __init__(self,gdict=None):\n",
        "      if gdict is None:\n",
        "         gdict = {}\n",
        "      self.gdict = gdict\n",
        "# Check for the visisted and unvisited nodes\n",
        "def dfs(graph, start, visited = None):\n",
        "   if visited is None:\n",
        "      visited = set()\n",
        "   visited.add(start)\n",
        "   print(start)\n",
        "   for next in graph[start] - visited:\n",
        "      dfs(graph, next, visited)\n",
        "   return visited\n",
        "\n",
        "gdict = {\n",
        "   \"a\" : set([\"b\",\"c\"]),\n",
        "   \"b\" : set([\"a\", \"d\"]),\n",
        "   \"c\" : set([\"a\", \"d\"]),\n",
        "   \"d\" : set([\"e\"]),\n",
        "   \"e\" : set([\"a\"])\n",
        "}\n",
        "dfs(gdict, 'a')"
      ],
      "metadata": {
        "id": "AuRJkrZsNK1m",
        "outputId": "be2cda72-4563-49b3-d1d2-223aea2fadfc",
        "colab": {
          "base_uri": "https://localhost:8080/"
        }
      },
      "execution_count": 1,
      "outputs": [
        {
          "output_type": "stream",
          "name": "stdout",
          "text": [
            "a\n",
            "b\n",
            "d\n",
            "e\n",
            "c\n"
          ]
        },
        {
          "output_type": "execute_result",
          "data": {
            "text/plain": [
              "{'a', 'b', 'c', 'd', 'e'}"
            ]
          },
          "metadata": {},
          "execution_count": 1
        }
      ]
    },
    {
      "cell_type": "code",
      "source": [
        "import collections\n",
        "class graph:\n",
        "   def __init__(self,gdict=None):\n",
        "      if gdict is None:\n",
        "         gdict = {}\n",
        "      self.gdict = gdict\n",
        "def bfs(graph, startnode):\n",
        "# Track the visited and unvisited nodes using queue\n",
        "   seen, queue = set([startnode]), collections.deque([startnode])\n",
        "   while queue:\n",
        "      vertex = queue.popleft()\n",
        "      marked(vertex)\n",
        "      for node in graph[vertex]:\n",
        "         if node not in seen:\n",
        "            seen.add(node)\n",
        "            queue.append(node)\n",
        "\n",
        "def marked(n):\n",
        "   print(n)\n",
        "\n",
        "# The graph dictionary\n",
        "gdict = {\n",
        "   \"a\" : set([\"b\",\"c\"]),\n",
        "   \"b\" : set([\"a\", \"d\"]),\n",
        "   \"c\" : set([\"a\", \"d\"]),\n",
        "   \"d\" : set([\"e\"]),\n",
        "   \"e\" : set([\"a\"])\n",
        "}\n",
        "bfs(gdict, \"a\")"
      ],
      "metadata": {
        "id": "yodIADSPOQel",
        "outputId": "0e33a8a4-aa11-4412-b32e-37a752aba235",
        "colab": {
          "base_uri": "https://localhost:8080/"
        }
      },
      "execution_count": 2,
      "outputs": [
        {
          "output_type": "stream",
          "name": "stdout",
          "text": [
            "a\n",
            "b\n",
            "c\n",
            "d\n",
            "e\n"
          ]
        }
      ]
    }
  ],
  "metadata": {
    "colab": {
      "name": "Colaboratory へようこそ",
      "toc_visible": true,
      "provenance": []
    },
    "kernelspec": {
      "display_name": "Python 3",
      "name": "python3"
    }
  },
  "nbformat": 4,
  "nbformat_minor": 0
}