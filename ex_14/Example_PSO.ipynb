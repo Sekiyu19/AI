{
  "nbformat": 4,
  "nbformat_minor": 0,
  "metadata": {
    "colab": {
      "provenance": []
    },
    "kernelspec": {
      "name": "python3",
      "display_name": "Python 3"
    },
    "language_info": {
      "name": "python"
    }
  },
  "cells": [
    {
      "cell_type": "markdown",
      "source": [
        "The following program was taken from:\n",
        "https://pyswarms.readthedocs.io/en/latest/examples/usecases/train_neural_network.html"
      ],
      "metadata": {
        "id": "ZAkNNY_Kmr4u"
      }
    },
    {
      "cell_type": "code",
      "source": [
        "pip install pyswarms"
      ],
      "metadata": {
        "colab": {
          "base_uri": "https://localhost:8080/"
        },
        "id": "6VfgetUZnLeu",
        "outputId": "ded5e082-2645-449f-f79a-07515cd4508a"
      },
      "execution_count": 10,
      "outputs": [
        {
          "output_type": "stream",
          "name": "stdout",
          "text": [
            "Requirement already satisfied: pyswarms in /usr/local/lib/python3.10/dist-packages (1.3.0)\n",
            "Requirement already satisfied: scipy in /usr/local/lib/python3.10/dist-packages (from pyswarms) (1.11.3)\n",
            "Requirement already satisfied: numpy in /usr/local/lib/python3.10/dist-packages (from pyswarms) (1.23.5)\n",
            "Requirement already satisfied: matplotlib>=1.3.1 in /usr/local/lib/python3.10/dist-packages (from pyswarms) (3.7.1)\n",
            "Requirement already satisfied: attrs in /usr/local/lib/python3.10/dist-packages (from pyswarms) (23.1.0)\n",
            "Requirement already satisfied: tqdm in /usr/local/lib/python3.10/dist-packages (from pyswarms) (4.66.1)\n",
            "Requirement already satisfied: future in /usr/local/lib/python3.10/dist-packages (from pyswarms) (0.18.3)\n",
            "Requirement already satisfied: pyyaml in /usr/local/lib/python3.10/dist-packages (from pyswarms) (6.0.1)\n",
            "Requirement already satisfied: contourpy>=1.0.1 in /usr/local/lib/python3.10/dist-packages (from matplotlib>=1.3.1->pyswarms) (1.1.1)\n",
            "Requirement already satisfied: cycler>=0.10 in /usr/local/lib/python3.10/dist-packages (from matplotlib>=1.3.1->pyswarms) (0.12.1)\n",
            "Requirement already satisfied: fonttools>=4.22.0 in /usr/local/lib/python3.10/dist-packages (from matplotlib>=1.3.1->pyswarms) (4.43.1)\n",
            "Requirement already satisfied: kiwisolver>=1.0.1 in /usr/local/lib/python3.10/dist-packages (from matplotlib>=1.3.1->pyswarms) (1.4.5)\n",
            "Requirement already satisfied: packaging>=20.0 in /usr/local/lib/python3.10/dist-packages (from matplotlib>=1.3.1->pyswarms) (23.2)\n",
            "Requirement already satisfied: pillow>=6.2.0 in /usr/local/lib/python3.10/dist-packages (from matplotlib>=1.3.1->pyswarms) (9.4.0)\n",
            "Requirement already satisfied: pyparsing>=2.3.1 in /usr/local/lib/python3.10/dist-packages (from matplotlib>=1.3.1->pyswarms) (3.1.1)\n",
            "Requirement already satisfied: python-dateutil>=2.7 in /usr/local/lib/python3.10/dist-packages (from matplotlib>=1.3.1->pyswarms) (2.8.2)\n",
            "Requirement already satisfied: six>=1.5 in /usr/local/lib/python3.10/dist-packages (from python-dateutil>=2.7->matplotlib>=1.3.1->pyswarms) (1.16.0)\n"
          ]
        }
      ]
    },
    {
      "cell_type": "code",
      "execution_count": 11,
      "metadata": {
        "colab": {
          "base_uri": "https://localhost:8080/"
        },
        "id": "z8wYfZremqtU",
        "outputId": "b3d42a46-8440-4b6c-ab64-a9386d5ae473"
      },
      "outputs": [
        {
          "output_type": "stream",
          "name": "stdout",
          "text": [
            "The autoreload extension is already loaded. To reload it, use:\n",
            "  %reload_ext autoreload\n"
          ]
        }
      ],
      "source": [
        "# Import modules\n",
        "import numpy as np\n",
        "import matplotlib.pyplot as plt\n",
        "from sklearn.datasets import load_iris\n",
        "\n",
        "\n",
        "# Import PySwarms\n",
        "import pyswarms as ps\n",
        "\n",
        "# Some more magic so that the notebook will reload external python modules;\n",
        "# see http://stackoverflow.com/questions/1907993/autoreload-of-modules-in-ipython\n",
        "%load_ext autoreload\n",
        "%autoreload 2"
      ]
    },
    {
      "cell_type": "code",
      "source": [
        "data = load_iris()\n",
        "\n",
        "# Store the features as X and the labels as y\n",
        "X = data.data\n",
        "y = data.target"
      ],
      "metadata": {
        "id": "7WSlqsgWnWbO"
      },
      "execution_count": 12,
      "outputs": []
    },
    {
      "cell_type": "code",
      "source": [
        "n_inputs = 4\n",
        "n_hidden = 20\n",
        "n_classes = 3\n",
        "\n",
        "num_samples = 150\n",
        "\n",
        "def logits_function(p):\n",
        "    \"\"\" Calculate roll-back the weights and biases\n",
        "\n",
        "    Inputs\n",
        "    ------\n",
        "    p: np.ndarray\n",
        "        The dimensions should include an unrolled version of the\n",
        "        weights and biases.\n",
        "\n",
        "    Returns\n",
        "    -------\n",
        "    numpy.ndarray of logits for layer 2\n",
        "\n",
        "    \"\"\"\n",
        "    # Roll-back the weights and biases\n",
        "    W1 = p[0:80].reshape((n_inputs,n_hidden))\n",
        "    b1 = p[80:100].reshape((n_hidden,))\n",
        "    W2 = p[100:160].reshape((n_hidden,n_classes))\n",
        "    b2 = p[160:163].reshape((n_classes,))\n",
        "\n",
        "    # Perform forward propagation\n",
        "    z1 = X.dot(W1) + b1  # Pre-activation in Layer 1\n",
        "    a1 = np.tanh(z1)     # Activation in Layer 1\n",
        "    logits = a1.dot(W2) + b2 # Pre-activation in Layer 2\n",
        "    return logits          # Logits for Layer 2\n",
        "\n",
        "# Forward propagation\n",
        "def forward_prop(params):\n",
        "    \"\"\"Forward propagation as objective function\n",
        "\n",
        "    This computes for the forward propagation of the neural network, as\n",
        "    well as the loss.\n",
        "\n",
        "    Inputs\n",
        "    ------\n",
        "    params: np.ndarray\n",
        "        The dimensions should include an unrolled version of the\n",
        "        weights and biases.\n",
        "\n",
        "    Returns\n",
        "    -------\n",
        "    float\n",
        "        The computed negative log-likelihood loss given the parameters\n",
        "    \"\"\"\n",
        "\n",
        "    logits = logits_function(params)\n",
        "\n",
        "    # Compute for the softmax of the logits\n",
        "    exp_scores = np.exp(logits)\n",
        "    probs = exp_scores / np.sum(exp_scores, axis=1, keepdims=True)\n",
        "\n",
        "    # Compute for the negative log likelihood\n",
        "\n",
        "    corect_logprobs = -np.log(probs[range(num_samples), y])\n",
        "    loss = np.sum(corect_logprobs) / num_samples\n",
        "\n",
        "    return loss"
      ],
      "metadata": {
        "id": "B1r8fZEtnjZ8"
      },
      "execution_count": 13,
      "outputs": []
    },
    {
      "cell_type": "code",
      "source": [
        "def f(x):\n",
        "    \"\"\"Higher-level method to do forward_prop in the\n",
        "    whole swarm.\n",
        "\n",
        "    Inputs\n",
        "    ------\n",
        "    x: numpy.ndarray of shape (n_particles, dimensions)\n",
        "        The swarm that will perform the search\n",
        "\n",
        "    Returns\n",
        "    -------\n",
        "    numpy.ndarray of shape (n_particles, )\n",
        "        The computed loss for each particle\n",
        "    \"\"\"\n",
        "    n_particles = x.shape[0]\n",
        "    j = [forward_prop(x[i]) for i in range(n_particles)]\n",
        "    return np.array(j)"
      ],
      "metadata": {
        "id": "YEoRcHfwnxqW"
      },
      "execution_count": 14,
      "outputs": []
    },
    {
      "cell_type": "code",
      "source": [
        "%%time\n",
        "# Initialize swarm\n",
        "options = {'c1': 0.5, 'c2': 0.3, 'w':0.9}\n",
        "\n",
        "# Call instance of PSO\n",
        "dimensions = (n_inputs * n_hidden) + (n_hidden * n_classes) + n_hidden + n_classes\n",
        "optimizer = ps.single.GlobalBestPSO(n_particles=100, dimensions=dimensions, options=options)\n",
        "\n",
        "# Perform optimization\n",
        "cost, pos = optimizer.optimize(f, iters=1000)"
      ],
      "metadata": {
        "colab": {
          "base_uri": "https://localhost:8080/"
        },
        "id": "XPa74rdDn3gs",
        "outputId": "58a5dc5a-fbc3-4b3b-c05f-cb04f9a86f86"
      },
      "execution_count": 15,
      "outputs": [
        {
          "output_type": "stream",
          "name": "stderr",
          "text": [
            "2023-11-07 02:35:51,749 - pyswarms.single.global_best - INFO - Optimize for 1000 iters with {'c1': 0.5, 'c2': 0.3, 'w': 0.9}\n",
            "pyswarms.single.global_best: 100%|██████████|1000/1000, best_cost=0.0324\n",
            "2023-11-07 02:36:34,041 - pyswarms.single.global_best - INFO - Optimization finished | best cost: 0.03237557898646834, best pos: [ 1.51796280e-01  3.69025130e-01 -4.34012287e-01  4.20758508e-02\n",
            "  1.16514719e+00 -7.87229850e-01 -1.05322951e+00  8.15825556e-02\n",
            "  6.58181586e-01  8.04952331e-01  2.02620208e-01  2.36433604e-01\n",
            " -2.78033580e-01  1.86218069e+00 -8.73675425e-02  1.36915229e+00\n",
            " -4.67028009e-01  1.26933779e-01 -4.08407656e-01  1.41655219e+00\n",
            " -9.76727345e-01 -2.25836143e-01 -4.96578400e-02 -1.27955915e-01\n",
            " -6.71056955e-02  1.15060756e+00 -5.03777837e-02 -8.42704473e-02\n",
            "  6.94787367e-01  5.27206910e-01 -7.30342221e-01 -4.15569645e-01\n",
            " -5.95471579e-01 -1.79260944e+00  6.82424940e+01 -8.59180991e-02\n",
            "  6.79804885e-01 -3.32243860e-01  1.22313276e+00 -9.06170324e-01\n",
            "  6.22281220e-01 -1.48116075e+00  1.97058851e+00 -6.44642922e-01\n",
            " -1.08641838e+00 -7.89490358e-02  4.18160499e-01 -4.95975145e-01\n",
            " -6.95551984e-01 -1.03859018e+00 -9.11829232e-01  1.23194255e-01\n",
            "  1.07132365e+00 -5.15725059e-01 -4.28597232e+01  8.14194351e-01\n",
            " -1.15024783e-01  1.54901620e-01  1.14668562e+00 -1.07956007e+00\n",
            " -7.15629398e-02  6.32583935e-01  1.23948800e+00  6.89960896e-01\n",
            " -3.01688765e+00  2.02623753e-02 -3.12572689e-01  2.90339123e-01\n",
            " -4.70889164e-01 -9.81877352e-01 -1.34067269e+00  7.58786172e-01\n",
            "  1.42390398e+00  3.90598488e-01 -5.40703782e-01 -6.28474840e-01\n",
            " -7.63468764e-02 -5.73412847e-01  2.59800734e-01 -1.41261654e+00\n",
            " -2.06449736e-01  2.35795964e+00 -9.23971602e-01  1.03622429e-01\n",
            " -1.09833645e+00 -2.02112452e-01 -2.57677151e-01 -4.75717385e-01\n",
            " -5.27131490e-02  3.59541285e+00  6.11270172e-01 -6.72751361e-01\n",
            " -4.00155220e+00  1.88324711e-01 -1.03531217e+00  1.18377046e-01\n",
            "  1.41255517e+00  8.78286882e-01 -2.50638586e-01  4.80334593e-01\n",
            " -1.49119420e-01  7.18982643e+00  5.03186073e-01  2.07443009e+00\n",
            " -5.04137136e+00  8.97322526e-01 -1.84552952e+00  1.94901813e-01\n",
            "  2.49081208e+00 -8.53944119e-01 -1.69501469e+00 -1.27062680e+00\n",
            "  1.31657542e+00 -7.12703882e-01  6.41703947e-02  2.16043198e-01\n",
            " -1.09663053e+00  1.08908905e-01 -3.87029555e+00  3.35225388e-01\n",
            "  6.85320947e-01  3.01611317e-01 -5.57601004e-01  3.92144243e-02\n",
            " -8.97578225e-01  9.60186680e-01 -2.93097542e-01  7.98604011e-01\n",
            "  4.14717146e-01  1.43591401e+00  4.67282158e-01  7.86230529e-01\n",
            " -9.22175203e-01 -1.94500950e+00 -2.40255179e-01  9.06395549e-01\n",
            "  2.65823579e-02 -1.34688611e+00  9.03706521e+00  3.69872143e-01\n",
            "  4.45402883e-01  2.55265349e-01 -3.40879819e-01  9.85066198e-01\n",
            " -6.20340257e+00 -3.15867040e-01  8.04312339e-02 -4.50707401e-01\n",
            "  4.97783408e-01  1.74650716e+00  8.22454892e-01 -6.46426250e-01\n",
            "  2.00258614e+00 -2.39476680e-02 -1.55771134e-01  1.38712741e+00\n",
            "  1.53945751e-01  3.46652571e-01  1.04487680e+00  5.37512278e-02\n",
            "  2.28937044e-01 -2.15486766e+00 -9.84675749e-02]\n"
          ]
        },
        {
          "output_type": "stream",
          "name": "stdout",
          "text": [
            "CPU times: user 36.5 s, sys: 384 ms, total: 36.9 s\n",
            "Wall time: 42.3 s\n"
          ]
        }
      ]
    },
    {
      "cell_type": "code",
      "source": [
        "def predict(pos):\n",
        "    \"\"\"\n",
        "    Use the trained weights to perform class predictions.\n",
        "\n",
        "    Inputs\n",
        "    ------\n",
        "    pos: numpy.ndarray\n",
        "        Position matrix found by the swarm. Will be rolled\n",
        "        into weights and biases.\n",
        "    \"\"\"\n",
        "    logits = logits_function(pos)\n",
        "    y_pred = np.argmax(logits, axis=1)\n",
        "    return y_pred\n"
      ],
      "metadata": {
        "id": "750MqKl5oEeM"
      },
      "execution_count": 16,
      "outputs": []
    },
    {
      "cell_type": "code",
      "source": [
        "(predict(pos) == y).mean()"
      ],
      "metadata": {
        "colab": {
          "base_uri": "https://localhost:8080/"
        },
        "id": "UszqNjYeoImU",
        "outputId": "3385b24d-407e-47ce-d763-76072b584eaa"
      },
      "execution_count": 17,
      "outputs": [
        {
          "output_type": "execute_result",
          "data": {
            "text/plain": [
              "0.9866666666666667"
            ]
          },
          "metadata": {},
          "execution_count": 17
        }
      ]
    }
  ]
}