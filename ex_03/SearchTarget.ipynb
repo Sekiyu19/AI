{
  "cells": [
    {
      "cell_type": "markdown",
      "source": [
        "The following source codes are taken from:\n",
        "https://eddmann.com/posts/depth-first-search-and-breadth-first-search-in-python/"
      ],
      "metadata": {
        "id": "0zZB7n4fVoOZ"
      }
    },
    {
      "cell_type": "code",
      "source": [
        "graph = {'A': set(['B', 'C']),\n",
        "         'B': set(['A', 'D', 'E']),\n",
        "         'C': set(['A', 'F']),\n",
        "         'D': set(['B']),\n",
        "         'E': set(['B', 'F']),\n",
        "         'F': set(['C', 'E'])}"
      ],
      "metadata": {
        "id": "8ZGTjFTrVC1p"
      },
      "execution_count": 6,
      "outputs": []
    },
    {
      "cell_type": "code",
      "source": [
        "def dfs(graph, start):\n",
        "    visited, stack = set(), [start]\n",
        "    while stack:\n",
        "        vertex = stack.pop()\n",
        "        if vertex not in visited:\n",
        "            visited.add(vertex)\n",
        "            stack.extend(graph[vertex] - visited)\n",
        "    return visited\n",
        "\n",
        "dfs(graph, 'A') # {'E', 'D', 'F', 'A', 'C', 'B'}"
      ],
      "metadata": {
        "id": "V01_AByxVEuB",
        "outputId": "12b5bc0b-3716-4660-ab64-bffc26c9742a",
        "colab": {
          "base_uri": "https://localhost:8080/"
        }
      },
      "execution_count": 7,
      "outputs": [
        {
          "output_type": "execute_result",
          "data": {
            "text/plain": [
              "{'A', 'B', 'C', 'D', 'E', 'F'}"
            ]
          },
          "metadata": {},
          "execution_count": 7
        }
      ]
    },
    {
      "cell_type": "code",
      "source": [
        "def dfs(graph, start, visited=None):\n",
        "    if visited is None:\n",
        "        visited = set()\n",
        "    visited.add(start)\n",
        "    for next in graph[start] - visited:\n",
        "        dfs(graph, next, visited)\n",
        "    return visited\n",
        "\n",
        "dfs(graph, 'C') # {'E', 'D', 'F', 'A', 'C', 'B'}"
      ],
      "metadata": {
        "id": "ak2o6qEVVMma",
        "outputId": "d7a0aaad-22c0-4ec8-e599-90c1ce1851a9",
        "colab": {
          "base_uri": "https://localhost:8080/"
        }
      },
      "execution_count": 8,
      "outputs": [
        {
          "output_type": "execute_result",
          "data": {
            "text/plain": [
              "{'A', 'B', 'C', 'D', 'E', 'F'}"
            ]
          },
          "metadata": {},
          "execution_count": 8
        }
      ]
    },
    {
      "cell_type": "code",
      "source": [
        "def dfs_paths(graph, start, goal):\n",
        "    stack = [(start, [start])]\n",
        "    while stack:\n",
        "        (vertex, path) = stack.pop()\n",
        "        for next in graph[vertex] - set(path):\n",
        "            if next == goal:\n",
        "                yield path + [next]\n",
        "            else:\n",
        "                stack.append((next, path + [next]))\n",
        "\n",
        "list(dfs_paths(graph, 'A', 'F')) # [['A', 'C', 'F'], ['A', 'B', 'E', 'F']]"
      ],
      "metadata": {
        "id": "LEAKCIqRVQ9x",
        "outputId": "277beb2b-4ba4-454b-c8f2-7aafc055fa8d",
        "colab": {
          "base_uri": "https://localhost:8080/"
        }
      },
      "execution_count": 9,
      "outputs": [
        {
          "output_type": "execute_result",
          "data": {
            "text/plain": [
              "[['A', 'C', 'F'], ['A', 'B', 'E', 'F']]"
            ]
          },
          "metadata": {},
          "execution_count": 9
        }
      ]
    },
    {
      "cell_type": "code",
      "source": [
        "# Recursive version\n",
        "def dfs_paths(graph, start, goal, path=None):\n",
        "    if path is None:\n",
        "        path = [start]\n",
        "    if start == goal:\n",
        "        yield path\n",
        "    for next in graph[start] - set(path):\n",
        "        yield from dfs_paths(graph, next, goal, path + [next])\n",
        "\n",
        "list(dfs_paths(graph, 'C', 'F')) # [['C', 'F'], ['C', 'A', 'B', 'E', 'F']]"
      ],
      "metadata": {
        "id": "EN6gCpPkVV9p",
        "outputId": "501b3edd-1c9d-4699-ce53-6f1487342048",
        "colab": {
          "base_uri": "https://localhost:8080/"
        }
      },
      "execution_count": 10,
      "outputs": [
        {
          "output_type": "execute_result",
          "data": {
            "text/plain": [
              "[['C', 'A', 'B', 'E', 'F'], ['C', 'F']]"
            ]
          },
          "metadata": {},
          "execution_count": 10
        }
      ]
    },
    {
      "cell_type": "code",
      "source": [
        "def bfs(graph, start):\n",
        "    visited, queue = set(), [start]\n",
        "    while queue:\n",
        "        vertex = queue.pop(0)\n",
        "        if vertex not in visited:\n",
        "            visited.add(vertex)\n",
        "            queue.extend(graph[vertex] - visited)\n",
        "    return visited\n",
        "\n",
        "bfs(graph, 'A') # {'B', 'C', 'A', 'F', 'D', 'E'}"
      ],
      "metadata": {
        "id": "fSVePlU8Vg_Y",
        "outputId": "3bb13023-500e-41ac-f75e-8a569ae80f20",
        "colab": {
          "base_uri": "https://localhost:8080/"
        }
      },
      "execution_count": 11,
      "outputs": [
        {
          "output_type": "execute_result",
          "data": {
            "text/plain": [
              "{'A', 'B', 'C', 'D', 'E', 'F'}"
            ]
          },
          "metadata": {},
          "execution_count": 11
        }
      ]
    },
    {
      "cell_type": "code",
      "source": [
        "def bfs_paths(graph, start, goal):\n",
        "    queue = [(start, [start])]\n",
        "    while queue:\n",
        "        (vertex, path) = queue.pop(0)\n",
        "        for next in graph[vertex] - set(path):\n",
        "            if next == goal:\n",
        "                yield path + [next]\n",
        "            else:\n",
        "                queue.append((next, path + [next]))\n",
        "\n",
        "list(bfs_paths(graph, 'A', 'F')) # [['A', 'C', 'F'], ['A', 'B', 'E', 'F']]"
      ],
      "metadata": {
        "id": "-Fsr_5EeVmHI",
        "outputId": "aa4b53a9-fe90-42a2-9f63-0b98597161b8",
        "colab": {
          "base_uri": "https://localhost:8080/"
        }
      },
      "execution_count": 12,
      "outputs": [
        {
          "output_type": "execute_result",
          "data": {
            "text/plain": [
              "[['A', 'C', 'F'], ['A', 'B', 'E', 'F']]"
            ]
          },
          "metadata": {},
          "execution_count": 12
        }
      ]
    }
  ],
  "metadata": {
    "colab": {
      "name": "Colaboratory へようこそ",
      "toc_visible": true,
      "provenance": []
    },
    "kernelspec": {
      "display_name": "Python 3",
      "name": "python3"
    }
  },
  "nbformat": 4,
  "nbformat_minor": 0
}