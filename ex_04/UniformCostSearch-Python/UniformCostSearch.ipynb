{
  "cells": [
    {
      "cell_type": "markdown",
      "source": [
        "Program taken from:\n",
        "https://github.com/nidadinch/UniformCostSearch\n",
        "\n",
        "This program is to test the uniform cost search using a map (graph of cities). The data file \"cities.csv\" should be uploaded to the following path: /content/sample_data.\n",
        "The drive must be mounted using the following cell."
      ],
      "metadata": {
        "id": "BF7aLCGef1-n"
      }
    },
    {
      "cell_type": "code",
      "source": [
        "from google.colab import drive\n",
        "drive.mount('/content/drive')"
      ],
      "metadata": {
        "id": "ZN9HjSFrefqT",
        "outputId": "8957a5f9-85fe-4430-a644-eb2d2dd9bcee",
        "colab": {
          "base_uri": "https://localhost:8080/"
        }
      },
      "execution_count": 14,
      "outputs": [
        {
          "output_type": "stream",
          "name": "stdout",
          "text": [
            "Mounted at /content/drive\n"
          ]
        }
      ]
    },
    {
      "cell_type": "code",
      "source": [
        "import csv\n",
        "from queue import PriorityQueue\n",
        "\n",
        "# CSE 362 - Artificial Intelligence\n",
        "# Program for calculating distance between two cities & best route\n",
        "# using Uniform Cost Search algorithm\n",
        "# Ayﾅ歹 Nida Dinﾃｧ - 20160808047\n",
        "\n",
        "class CityNotFoundError(Exception):\n",
        "    def __init__(self, city):\n",
        "        print(\"%s does not exist\" % city)\n",
        "\n",
        "\n",
        "def build_graph(path):\n",
        "\n",
        "    file = open(path,'r')\n",
        "    routes = {}\n",
        "    next(file)\n",
        "    for row in file:\n",
        "\n",
        "        row = row.split(',')\n",
        "        routes.setdefault(row[0], []).append((row[1],row[2]))\n",
        "        routes.setdefault(row[1], []).append((row[0],row[2]))\n",
        "\n",
        "    file.close()\n",
        "\n",
        "   # print(routes)\n",
        "    return routes\n",
        "\n",
        "\n",
        "def uniform_cost_search(graph, start_city, destination_city):\n",
        "\n",
        "    visited = set()\n",
        "    route = []\n",
        "    priority_queue = PriorityQueue()\n",
        "    priority_queue.put((0, [start_city]))\n",
        "\n",
        "    while priority_queue:\n",
        "\n",
        "        if priority_queue.empty():\n",
        "            print ('distance: infinity \\nroute: \\nnone')\n",
        "            break\n",
        "\n",
        "        distance, route = priority_queue.get()\n",
        "        city = route[len(route)-1]\n",
        "\n",
        "        if city not in visited:\n",
        "            visited.add(city)\n",
        "\n",
        "            if city == destination_city:\n",
        "                route.append(distance)\n",
        "                display_route(graph,route)\n",
        "                return route\n",
        "\n",
        "        childs = graph[city]\n",
        "        neighbor=[i[0] for i in childs]\n",
        "\n",
        "        for i in neighbor:\n",
        "            if i not in visited:\n",
        "\n",
        "                totaldistance = distance + int(city_to_neighbor(graph, city, i))\n",
        "                temp = route[:]\n",
        "                temp.append(i)\n",
        "                priority_queue.put((totaldistance, temp))\n",
        "\n",
        "    return priority_queue\n",
        "\n",
        "\n",
        "def city_to_neighbor(graph, current, neighbor):\n",
        "    index = [i[0] for i in graph[current]].index(neighbor)\n",
        "    return graph[current][index][1]\n",
        "\n",
        "\n",
        "def display_route(graph,route):\n",
        "    length = len(route)\n",
        "    distance = route[-1]\n",
        "    print()\n",
        "    print('Distance between cities: %s km'%(distance))\n",
        "    print()\n",
        "    print('Best route: ')\n",
        "    count = 0\n",
        "    while count < (length-2):\n",
        "        km = city_to_neighbor(graph, route[count], route[count+1])\n",
        "        print('%s -> %s %s' %(route[count],route[count+1],km))\n",
        "        count+=1\n",
        "    return\n",
        "\n",
        "\n",
        "\n",
        "\n",
        "if __name__ == \"__main__\":\n",
        "\n",
        "    while True:\n",
        "        try:\n",
        "            inputFile = input(\"Enter road map path: \")\n",
        "            test = open(inputFile, 'r').readlines()\n",
        "        except FileNotFoundError:\n",
        "            print(\"Wrong file or file path, please try again!\")\n",
        "        else:\n",
        "            break\n",
        "\n",
        "    graph = build_graph(inputFile)\n",
        "\n",
        "    while True:\n",
        "        try:\n",
        "            start_city = input(\"Enter the start city: \")\n",
        "            if start_city not in graph:\n",
        "                raise CityNotFoundError(start_city)\n",
        "            break\n",
        "        except CityNotFoundError:\n",
        "            print(\"City not found on map, try again!\")\n",
        "\n",
        "    while True:\n",
        "        try:\n",
        "            destination_city = input(\"Enter the destination city: \")\n",
        "            if destination_city not in graph:\n",
        "                raise CityNotFoundError(destination_city)\n",
        "            break\n",
        "        except CityNotFoundError:\n",
        "            print(\"City not found on map, try again!\")\n",
        "\n",
        "\n",
        "    uniform_cost_search(graph, start_city, destination_city)\n",
        "\n",
        "    pass"
      ],
      "metadata": {
        "id": "Sauduo2Xcc_u",
        "outputId": "47d3a1e8-9a6e-4821-a3a5-72f3669dbe85",
        "colab": {
          "base_uri": "https://localhost:8080/"
        }
      },
      "execution_count": 16,
      "outputs": [
        {
          "output_type": "stream",
          "name": "stdout",
          "text": [
            "Enter road map path: sample_data/cities.csv\n",
            "Enter the start city: Ankara\n",
            "Enter the destination city: Rize\n",
            "\n",
            "Distance between cities: 310 km\n",
            "\n",
            "Best route: \n",
            "Ankara -> Samsun 115\n",
            "\n",
            "Samsun -> Trabzon 120\n",
            "\n",
            "Trabzon -> Rize 75\n",
            "\n"
          ]
        }
      ]
    },
    {
      "cell_type": "markdown",
      "source": [
        "# 新しいセクション"
      ],
      "metadata": {
        "id": "NAXILdJOeCke"
      }
    }
  ],
  "metadata": {
    "colab": {
      "name": "Colaboratory へようこそ",
      "provenance": []
    },
    "kernelspec": {
      "display_name": "Python 3",
      "name": "python3"
    }
  },
  "nbformat": 4,
  "nbformat_minor": 0
}